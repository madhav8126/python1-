{
  "nbformat": 4,
  "nbformat_minor": 0,
  "metadata": {
    "colab": {
      "provenance": []
    },
    "kernelspec": {
      "name": "python3",
      "display_name": "Python 3"
    },
    "language_info": {
      "name": "python"
    }
  },
  "cells": [
    {
      "cell_type": "code",
      "execution_count": 15,
      "metadata": {
        "colab": {
          "base_uri": "https://localhost:8080/"
        },
        "id": "hb2FR1mOPF2m",
        "outputId": "508bf473-e4ef-408d-f2c4-5493904f5513"
      },
      "outputs": [
        {
          "output_type": "stream",
          "name": "stdout",
          "text": [
            "0    P\n",
            "1    a\n",
            "2    n\n",
            "3    d\n",
            "4    a\n",
            "5    s\n",
            "dtype: object\n"
          ]
        }
      ],
      "source": [
        "#Seriers method of pandas librery\n",
        "import pandas as pd\n",
        "import numpy as np\n",
        "info = np.array(['P','a','n','d','a','s'])\n",
        "a = pd.Series(info)\n",
        "print(a)"
      ]
    },
    {
      "cell_type": "code",
      "source": [
        "#Data freame of pandas librery\n",
        "import pandas as pd\n",
        "x = ['Ekam','with','Dev']\n",
        "pair = pd.DataFrame(x)\n",
        "print(pair)"
      ],
      "metadata": {
        "colab": {
          "base_uri": "https://localhost:8080/"
        },
        "id": "FK3W8SNaQUyK",
        "outputId": "13b69fb9-c706-4349-f429-2dc9dfc2966d"
      },
      "execution_count": 16,
      "outputs": [
        {
          "output_type": "stream",
          "name": "stdout",
          "text": [
            "      0\n",
            "0  Ekam\n",
            "1  with\n",
            "2   Dev\n"
          ]
        }
      ]
    },
    {
      "cell_type": "code",
      "source": [
        "import pandas as pd\n",
        "import matplotlib.pyplot as plt\n",
        "\n",
        "name = ['Amir', 'Amarkant', 'Diviyansy']\n",
        "id = [123, 355, 567]\n",
        "id_series = pd.Series(id)\n",
        "data = {'Name': name, 'ID': id_series}\n",
        "df = pd.DataFrame(data)\n",
        "print(df)"
      ],
      "metadata": {
        "colab": {
          "base_uri": "https://localhost:8080/"
        },
        "id": "2YXAE1YURJ1X",
        "outputId": "4946316b-da58-46e5-b735-4c5744e3c3dc"
      },
      "execution_count": 17,
      "outputs": [
        {
          "output_type": "stream",
          "name": "stdout",
          "text": [
            "        Name   ID\n",
            "0       Amir  123\n",
            "1   Amarkant  355\n",
            "2  Diviyansy  567\n"
          ]
        }
      ]
    },
    {
      "cell_type": "code",
      "source": [
        "import pandas as pd\n",
        "\n",
        "dict = {'name':['amkhilesh','abhishak','nitish'],'age':['12','23','34']}\n",
        "info = pd.DataFrame(dict,index=[True,True,False])\n",
        "print(info)"
      ],
      "metadata": {
        "colab": {
          "base_uri": "https://localhost:8080/"
        },
        "id": "6Ab6oZ6aTJrb",
        "outputId": "61c17deb-07d0-483f-b380-b26e03ca9227"
      },
      "execution_count": 18,
      "outputs": [
        {
          "output_type": "stream",
          "name": "stdout",
          "text": [
            "            name age\n",
            "True   amkhilesh  12\n",
            "True    abhishak  23\n",
            "False     nitish  34\n"
          ]
        }
      ]
    },
    {
      "cell_type": "code",
      "source": [
        "import numpy as np\n",
        "arr = np.arange(16)\n",
        "print('the originanl arr is:  \\n', arr)\n",
        "arr = np.arange(16).reshape(2,8)\n",
        "print('\\nreshapedarr: \\n',arr)\n",
        "arr = np.arange(16).reshape(8,2)\n",
        "print('\\nreshaped arr: \\n',arr)"
      ],
      "metadata": {
        "colab": {
          "base_uri": "https://localhost:8080/"
        },
        "id": "xzdsV7_7W-lU",
        "outputId": "f0428a8f-7cf2-49fa-861d-3fdd7a1e40c5"
      },
      "execution_count": 19,
      "outputs": [
        {
          "output_type": "stream",
          "name": "stdout",
          "text": [
            "the originanl arr is:  \n",
            " [ 0  1  2  3  4  5  6  7  8  9 10 11 12 13 14 15]\n",
            "\n",
            "reshapedarr: \n",
            " [[ 0  1  2  3  4  5  6  7]\n",
            " [ 8  9 10 11 12 13 14 15]]\n",
            "\n",
            "reshaped arr: \n",
            " [[ 0  1]\n",
            " [ 2  3]\n",
            " [ 4  5]\n",
            " [ 6  7]\n",
            " [ 8  9]\n",
            " [10 11]\n",
            " [12 13]\n",
            " [14 15]]\n"
          ]
        }
      ]
    }
  ]
}